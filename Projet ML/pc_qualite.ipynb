{
 "cells": [
  {
   "cell_type": "markdown",
   "metadata": {},
   "source": [
    "<h2 style=\"color:green\" align=\"center\">Prédire si un PC est de bonne qualité ou non en utilisant les algorithmes de Machine Learning </h2>"
   ]
  },
  {
   "cell_type": "markdown",
   "metadata": {
    "id": "OT8k-Rr_oQfY"
   },
   "source": [
    "# Importing required modules"
   ]
  },
  {
   "cell_type": "code",
   "execution_count": 1,
   "metadata": {
    "id": "I2yBp04JdP4z"
   },
   "outputs": [],
   "source": [
    "import numpy as np\n",
    "import matplotlib.pyplot as plt\n",
    "from matplotlib.ticker import NullFormatter\n",
    "import matplotlib.ticker as ticker\n",
    "import pandas as pd\n",
    "import pickle\n",
    "import seaborn as sns\n",
    "from sklearn.model_selection import train_test_split\n",
    "from sklearn.neighbors import KNeighborsClassifier\n",
    "# Import classification report and confusion matrix to evaluate predictions\n",
    "from sklearn.metrics import confusion_matrix,accuracy_score,classification_report\n",
    "#import metrics model to check the accuracy\n",
    "from sklearn import metrics\n",
    "from sklearn import svm\n",
    "from sklearn.tree import DecisionTreeClassifier # Import Decision Tree Classifier\n",
    "from sklearn.ensemble import GradientBoostingClassifier\n",
    "from sklearn.naive_bayes import GaussianNB\n",
    "from sklearn.ensemble import RandomForestClassifier\n",
    "from sklearn.linear_model import LogisticRegression\n",
    "import warnings \n",
    "warnings.filterwarnings('ignore')\n",
    "%matplotlib inline"
   ]
  },
  {
   "cell_type": "markdown",
   "metadata": {
    "id": "Q3H5aAIboagH"
   },
   "source": [
    "# Reading the dataset\n",
    "Displaying dataset dimensions, shape, content summary etc"
   ]
  },
  {
   "cell_type": "code",
   "execution_count": 2,
   "metadata": {},
   "outputs": [],
   "source": [
    "# reading given file and creating dataframe\n",
    "dataset = pd.read_csv(\"PC-qualité.txt\", header = None)\n",
    "\n",
    "# adding column headings\n",
    "dataset.columns = ['x0','x1','x2','x3','x4','x5','x6','x7','class']\n",
    "\n",
    "# store dataframe into csv file\n",
    "dataset.to_csv('PC-qualité.csv', index = None)"
   ]
  },
  {
   "cell_type": "code",
   "execution_count": 3,
   "metadata": {
    "colab": {
     "base_uri": "https://localhost:8080/"
    },
    "id": "nyXeypsNeGGt",
    "outputId": "22eb3b3f-4d27-4819-b2a0-fe074520496e"
   },
   "outputs": [
    {
     "name": "stdout",
     "output_type": "stream",
     "text": [
      "Shape: (768, 9)\n",
      "Dimensions: 2\n",
      "Size: 6912\n",
      "\n",
      "\n",
      "Count of empty fields:\n",
      " x0       0\n",
      "x1       0\n",
      "x2       0\n",
      "x3       0\n",
      "x4       0\n",
      "x5       0\n",
      "x6       0\n",
      "x7       0\n",
      "class    0\n",
      "dtype: int64\n",
      "\n",
      "\n",
      "Summary of dataset:\n",
      "<class 'pandas.core.frame.DataFrame'>\n",
      "RangeIndex: 768 entries, 0 to 767\n",
      "Data columns (total 9 columns):\n",
      " #   Column  Non-Null Count  Dtype  \n",
      "---  ------  --------------  -----  \n",
      " 0   x0      768 non-null    int64  \n",
      " 1   x1      768 non-null    int64  \n",
      " 2   x2      768 non-null    int64  \n",
      " 3   x3      768 non-null    int64  \n",
      " 4   x4      768 non-null    int64  \n",
      " 5   x5      768 non-null    float64\n",
      " 6   x6      768 non-null    float64\n",
      " 7   x7      768 non-null    int64  \n",
      " 8   class   768 non-null    int64  \n",
      "dtypes: float64(2), int64(7)\n",
      "memory usage: 54.1 KB\n",
      "None\n",
      "\n",
      "\n",
      "Top 5 reviews:\n",
      "    x0   x1  x2  x3   x4    x5     x6  x7  class\n",
      "0   6  148  72  35    0  33.6  0.627  50      1\n",
      "1   1   85  66  29    0  26.6  0.351  31      0\n",
      "2   8  183  64   0    0  23.3  0.672  32      1\n",
      "3   1   89  66  23   94  28.1  0.167  21      0\n",
      "4   0  137  40  35  168  43.1  2.288  33      1\n",
      "\n",
      "\n",
      "Last 5 reviews:\n",
      "      x0   x1  x2  x3   x4    x5     x6  x7  class\n",
      "763  10  101  76  48  180  32.9  0.171  63      0\n",
      "764   2  122  70  27    0  36.8  0.340  27      0\n",
      "765   5  121  72  23  112  26.2  0.245  30      0\n",
      "766   1  126  60   0    0  30.1  0.349  47      1\n",
      "767   1   93  70  31    0  30.4  0.315  23      0\n",
      "\n",
      "\n"
     ]
    },
    {
     "data": {
      "text/html": [
       "<div>\n",
       "<style scoped>\n",
       "    .dataframe tbody tr th:only-of-type {\n",
       "        vertical-align: middle;\n",
       "    }\n",
       "\n",
       "    .dataframe tbody tr th {\n",
       "        vertical-align: top;\n",
       "    }\n",
       "\n",
       "    .dataframe thead th {\n",
       "        text-align: right;\n",
       "    }\n",
       "</style>\n",
       "<table border=\"1\" class=\"dataframe\">\n",
       "  <thead>\n",
       "    <tr style=\"text-align: right;\">\n",
       "      <th></th>\n",
       "      <th>x0</th>\n",
       "      <th>x1</th>\n",
       "      <th>x2</th>\n",
       "      <th>x3</th>\n",
       "      <th>x4</th>\n",
       "      <th>x5</th>\n",
       "      <th>x6</th>\n",
       "      <th>x7</th>\n",
       "      <th>class</th>\n",
       "    </tr>\n",
       "  </thead>\n",
       "  <tbody>\n",
       "    <tr>\n",
       "      <th>count</th>\n",
       "      <td>768.000000</td>\n",
       "      <td>768.000000</td>\n",
       "      <td>768.000000</td>\n",
       "      <td>768.000000</td>\n",
       "      <td>768.000000</td>\n",
       "      <td>768.000000</td>\n",
       "      <td>768.000000</td>\n",
       "      <td>768.000000</td>\n",
       "      <td>768.000000</td>\n",
       "    </tr>\n",
       "    <tr>\n",
       "      <th>mean</th>\n",
       "      <td>3.845052</td>\n",
       "      <td>120.894531</td>\n",
       "      <td>69.105469</td>\n",
       "      <td>20.536458</td>\n",
       "      <td>79.799479</td>\n",
       "      <td>31.992578</td>\n",
       "      <td>0.471876</td>\n",
       "      <td>33.240885</td>\n",
       "      <td>0.348958</td>\n",
       "    </tr>\n",
       "    <tr>\n",
       "      <th>std</th>\n",
       "      <td>3.369578</td>\n",
       "      <td>31.972618</td>\n",
       "      <td>19.355807</td>\n",
       "      <td>15.952218</td>\n",
       "      <td>115.244002</td>\n",
       "      <td>7.884160</td>\n",
       "      <td>0.331329</td>\n",
       "      <td>11.760232</td>\n",
       "      <td>0.476951</td>\n",
       "    </tr>\n",
       "    <tr>\n",
       "      <th>min</th>\n",
       "      <td>0.000000</td>\n",
       "      <td>0.000000</td>\n",
       "      <td>0.000000</td>\n",
       "      <td>0.000000</td>\n",
       "      <td>0.000000</td>\n",
       "      <td>0.000000</td>\n",
       "      <td>0.078000</td>\n",
       "      <td>21.000000</td>\n",
       "      <td>0.000000</td>\n",
       "    </tr>\n",
       "    <tr>\n",
       "      <th>25%</th>\n",
       "      <td>1.000000</td>\n",
       "      <td>99.000000</td>\n",
       "      <td>62.000000</td>\n",
       "      <td>0.000000</td>\n",
       "      <td>0.000000</td>\n",
       "      <td>27.300000</td>\n",
       "      <td>0.243750</td>\n",
       "      <td>24.000000</td>\n",
       "      <td>0.000000</td>\n",
       "    </tr>\n",
       "    <tr>\n",
       "      <th>50%</th>\n",
       "      <td>3.000000</td>\n",
       "      <td>117.000000</td>\n",
       "      <td>72.000000</td>\n",
       "      <td>23.000000</td>\n",
       "      <td>30.500000</td>\n",
       "      <td>32.000000</td>\n",
       "      <td>0.372500</td>\n",
       "      <td>29.000000</td>\n",
       "      <td>0.000000</td>\n",
       "    </tr>\n",
       "    <tr>\n",
       "      <th>75%</th>\n",
       "      <td>6.000000</td>\n",
       "      <td>140.250000</td>\n",
       "      <td>80.000000</td>\n",
       "      <td>32.000000</td>\n",
       "      <td>127.250000</td>\n",
       "      <td>36.600000</td>\n",
       "      <td>0.626250</td>\n",
       "      <td>41.000000</td>\n",
       "      <td>1.000000</td>\n",
       "    </tr>\n",
       "    <tr>\n",
       "      <th>max</th>\n",
       "      <td>17.000000</td>\n",
       "      <td>199.000000</td>\n",
       "      <td>122.000000</td>\n",
       "      <td>99.000000</td>\n",
       "      <td>846.000000</td>\n",
       "      <td>67.100000</td>\n",
       "      <td>2.420000</td>\n",
       "      <td>81.000000</td>\n",
       "      <td>1.000000</td>\n",
       "    </tr>\n",
       "  </tbody>\n",
       "</table>\n",
       "</div>"
      ],
      "text/plain": [
       "               x0          x1          x2          x3          x4          x5  \\\n",
       "count  768.000000  768.000000  768.000000  768.000000  768.000000  768.000000   \n",
       "mean     3.845052  120.894531   69.105469   20.536458   79.799479   31.992578   \n",
       "std      3.369578   31.972618   19.355807   15.952218  115.244002    7.884160   \n",
       "min      0.000000    0.000000    0.000000    0.000000    0.000000    0.000000   \n",
       "25%      1.000000   99.000000   62.000000    0.000000    0.000000   27.300000   \n",
       "50%      3.000000  117.000000   72.000000   23.000000   30.500000   32.000000   \n",
       "75%      6.000000  140.250000   80.000000   32.000000  127.250000   36.600000   \n",
       "max     17.000000  199.000000  122.000000   99.000000  846.000000   67.100000   \n",
       "\n",
       "               x6          x7       class  \n",
       "count  768.000000  768.000000  768.000000  \n",
       "mean     0.471876   33.240885    0.348958  \n",
       "std      0.331329   11.760232    0.476951  \n",
       "min      0.078000   21.000000    0.000000  \n",
       "25%      0.243750   24.000000    0.000000  \n",
       "50%      0.372500   29.000000    0.000000  \n",
       "75%      0.626250   41.000000    1.000000  \n",
       "max      2.420000   81.000000    1.000000  "
      ]
     },
     "execution_count": 3,
     "metadata": {},
     "output_type": "execute_result"
    }
   ],
   "source": [
    "print(\"Shape:\",dataset.shape)  ### Return the shape of data, Identify the number of features (columns) and samples (rows):\n",
    "print(\"Dimensions:\",dataset.ndim)   ### Return the n dimensions of data\n",
    "print(\"Size:\",dataset.size)   ### Return the size of data \n",
    "print(\"\\n\")\n",
    "print(\"Count of empty fields:\\n\",dataset.isna().sum())  ### Returns the sum fo all na values\n",
    "print(\"\\n\")\n",
    "print(\"Summary of dataset:\")\n",
    "print(dataset.info())  ### Give concise summary of a DataFrame\n",
    "print(\"\\n\")\n",
    "print(\"Top 5 reviews:\\n\", dataset.head())  ## top 5 rows of the dataframe\n",
    "print(\"\\n\")\n",
    "print(\"Last 5 reviews:\\n\", dataset.tail()) ## bottom 5 rows of the dataframe\n",
    "print(\"\\n\")\n",
    "dataset.describe()"
   ]
  },
  {
   "cell_type": "markdown",
   "metadata": {},
   "source": [
    "the dataset is imbalanced, \n",
    "we will use imbalanced-learn library and radomundersampling"
   ]
  },
  {
   "cell_type": "code",
   "execution_count": 4,
   "metadata": {},
   "outputs": [
    {
     "data": {
      "text/plain": [
       "<AxesSubplot:xlabel='class', ylabel='count'>"
      ]
     },
     "execution_count": 4,
     "metadata": {},
     "output_type": "execute_result"
    },
    {
     "data": {
      "image/png": "[encoded data removed]",
      "text/plain": [
       "<Figure size 432x288 with 1 Axes>"
      ]
     },
     "metadata": {
      "needs_background": "light"
     },
     "output_type": "display_data"
    }
   ],
   "source": [
    "# Find if dataset is balanced or imbalanced (it is imbalanced)\n",
    "sns.countplot(x='class',data=dataset)"
   ]
  },
  {
   "cell_type": "markdown",
   "metadata": {},
   "source": [
    "1 means the quality is good and 0 means bad. We can identify that out of the 768 pc, 500 are labeled as 0 (bad) and 268 as 1 (good)."
   ]
  },
  {
   "cell_type": "code",
   "execution_count": 23,
   "metadata": {},
   "outputs": [
    {
     "name": "stdout",
     "output_type": "stream",
     "text": [
      "0    500\n",
      "1    268\n",
      "Name: class, dtype: int64\n"
     ]
    }
   ],
   "source": [
    "v = dataset['class'].value_counts()\n",
    "print(v)"
   ]
  },
  {
   "cell_type": "code",
   "execution_count": 58,
   "metadata": {},
   "outputs": [
    {
     "name": "stdout",
     "output_type": "stream",
     "text": [
      "Before undersampling: \n",
      "class\n",
      "0        348\n",
      "1        189\n",
      "dtype: int64\n",
      "After undersampling:  Counter({'class': 1})\n",
      "class\n",
      "1        189\n",
      "0        189\n",
      "dtype: int64\n"
     ]
    },
    {
     "data": {
      "text/plain": [
       "<AxesSubplot:xlabel='class', ylabel='count'>"
      ]
     },
     "execution_count": 58,
     "metadata": {},
     "output_type": "execute_result"
    },
    {
     "data": {
      "image/png": "[encoded data removed]",
      "text/plain": [
       "<Figure size 432x288 with 1 Axes>"
      ]
     },
     "metadata": {
      "needs_background": "light"
     },
     "output_type": "display_data"
    }
   ],
   "source": [
    "from imblearn.under_sampling import RandomUnderSampler\n",
    "from collections import Counter\n",
    "df = pd.read_csv('PC-qualité.csv')\n",
    "# Separating the independent variables from dependent variables\n",
    "X = dataset.drop(dataset.columns[8], axis=1)\n",
    "y = dataset.drop(dataset.columns[:8], axis=1)\n",
    "#Split train-test data\n",
    "X_train, X_test, y_train, y_test = train_test_split(X,y,test_size=0.30)\n",
    "# summarize class distribution\n",
    "print(\"Before undersampling: \")\n",
    "v = y_train.value_counts()\n",
    "print(v)\n",
    "# define undersampling strategy\n",
    "undersample = RandomUnderSampler(sampling_strategy='majority')\n",
    "# fit and apply the transform\n",
    "X_train_under, y_train_under = undersample.fit_resample(X_train, y_train)\n",
    "# summarize class distribution\n",
    "print(\"After undersampling: \", Counter(y_train_under))\n",
    "v = y_train_under.value_counts()\n",
    "print(v)\n",
    "sns.countplot(x='class',data=y_train_under)"
   ]
  },
  {
   "cell_type": "markdown",
   "metadata": {},
   "source": [
    "Statistics and data science are often concerned about the relationships between two or more variables (or features) of a dataset. Each data point in the dataset is an observation, and the features are the properties or attributes of those observations."
   ]
  },
  {
   "cell_type": "markdown",
   "metadata": {},
   "source": [
    "Une matrice de corrélation est utilisée pour évaluer la dépendence entre plusieurs variables en même temps. Le résultat est une table contenant les coefficients de corrélation entre chaque variable et les autres."
   ]
  },
  {
   "cell_type": "code",
   "execution_count": 35,
   "metadata": {},
   "outputs": [
    {
     "data": {
      "text/html": [
       "<div>\n",
       "<style scoped>\n",
       "    .dataframe tbody tr th:only-of-type {\n",
       "        vertical-align: middle;\n",
       "    }\n",
       "\n",
       "    .dataframe tbody tr th {\n",
       "        vertical-align: top;\n",
       "    }\n",
       "\n",
       "    .dataframe thead th {\n",
       "        text-align: right;\n",
       "    }\n",
       "</style>\n",
       "<table border=\"1\" class=\"dataframe\">\n",
       "  <thead>\n",
       "    <tr style=\"text-align: right;\">\n",
       "      <th></th>\n",
       "      <th>x0</th>\n",
       "      <th>x1</th>\n",
       "      <th>x2</th>\n",
       "      <th>x3</th>\n",
       "      <th>x4</th>\n",
       "      <th>x5</th>\n",
       "      <th>x6</th>\n",
       "      <th>x7</th>\n",
       "      <th>class</th>\n",
       "    </tr>\n",
       "  </thead>\n",
       "  <tbody>\n",
       "    <tr>\n",
       "      <th>x0</th>\n",
       "      <td>1.000000</td>\n",
       "      <td>0.129459</td>\n",
       "      <td>0.141282</td>\n",
       "      <td>-0.081672</td>\n",
       "      <td>-0.073535</td>\n",
       "      <td>0.017683</td>\n",
       "      <td>-0.033523</td>\n",
       "      <td>0.544341</td>\n",
       "      <td>0.221898</td>\n",
       "    </tr>\n",
       "    <tr>\n",
       "      <th>x1</th>\n",
       "      <td>0.129459</td>\n",
       "      <td>1.000000</td>\n",
       "      <td>0.152590</td>\n",
       "      <td>0.057328</td>\n",
       "      <td>0.331357</td>\n",
       "      <td>0.221071</td>\n",
       "      <td>0.137337</td>\n",
       "      <td>0.263514</td>\n",
       "      <td>0.466581</td>\n",
       "    </tr>\n",
       "    <tr>\n",
       "      <th>x2</th>\n",
       "      <td>0.141282</td>\n",
       "      <td>0.152590</td>\n",
       "      <td>1.000000</td>\n",
       "      <td>0.207371</td>\n",
       "      <td>0.088933</td>\n",
       "      <td>0.281805</td>\n",
       "      <td>0.041265</td>\n",
       "      <td>0.239528</td>\n",
       "      <td>0.065068</td>\n",
       "    </tr>\n",
       "    <tr>\n",
       "      <th>x3</th>\n",
       "      <td>-0.081672</td>\n",
       "      <td>0.057328</td>\n",
       "      <td>0.207371</td>\n",
       "      <td>1.000000</td>\n",
       "      <td>0.436783</td>\n",
       "      <td>0.392573</td>\n",
       "      <td>0.183928</td>\n",
       "      <td>-0.113970</td>\n",
       "      <td>0.074752</td>\n",
       "    </tr>\n",
       "    <tr>\n",
       "      <th>x4</th>\n",
       "      <td>-0.073535</td>\n",
       "      <td>0.331357</td>\n",
       "      <td>0.088933</td>\n",
       "      <td>0.436783</td>\n",
       "      <td>1.000000</td>\n",
       "      <td>0.197859</td>\n",
       "      <td>0.185071</td>\n",
       "      <td>-0.042163</td>\n",
       "      <td>0.130548</td>\n",
       "    </tr>\n",
       "    <tr>\n",
       "      <th>x5</th>\n",
       "      <td>0.017683</td>\n",
       "      <td>0.221071</td>\n",
       "      <td>0.281805</td>\n",
       "      <td>0.392573</td>\n",
       "      <td>0.197859</td>\n",
       "      <td>1.000000</td>\n",
       "      <td>0.140647</td>\n",
       "      <td>0.036242</td>\n",
       "      <td>0.292695</td>\n",
       "    </tr>\n",
       "    <tr>\n",
       "      <th>x6</th>\n",
       "      <td>-0.033523</td>\n",
       "      <td>0.137337</td>\n",
       "      <td>0.041265</td>\n",
       "      <td>0.183928</td>\n",
       "      <td>0.185071</td>\n",
       "      <td>0.140647</td>\n",
       "      <td>1.000000</td>\n",
       "      <td>0.033561</td>\n",
       "      <td>0.173844</td>\n",
       "    </tr>\n",
       "    <tr>\n",
       "      <th>x7</th>\n",
       "      <td>0.544341</td>\n",
       "      <td>0.263514</td>\n",
       "      <td>0.239528</td>\n",
       "      <td>-0.113970</td>\n",
       "      <td>-0.042163</td>\n",
       "      <td>0.036242</td>\n",
       "      <td>0.033561</td>\n",
       "      <td>1.000000</td>\n",
       "      <td>0.238356</td>\n",
       "    </tr>\n",
       "    <tr>\n",
       "      <th>class</th>\n",
       "      <td>0.221898</td>\n",
       "      <td>0.466581</td>\n",
       "      <td>0.065068</td>\n",
       "      <td>0.074752</td>\n",
       "      <td>0.130548</td>\n",
       "      <td>0.292695</td>\n",
       "      <td>0.173844</td>\n",
       "      <td>0.238356</td>\n",
       "      <td>1.000000</td>\n",
       "    </tr>\n",
       "  </tbody>\n",
       "</table>\n",
       "</div>"
      ],
      "text/plain": [
       "             x0        x1        x2        x3        x4        x5        x6  \\\n",
       "x0     1.000000  0.129459  0.141282 -0.081672 -0.073535  0.017683 -0.033523   \n",
       "x1     0.129459  1.000000  0.152590  0.057328  0.331357  0.221071  0.137337   \n",
       "x2     0.141282  0.152590  1.000000  0.207371  0.088933  0.281805  0.041265   \n",
       "x3    -0.081672  0.057328  0.207371  1.000000  0.436783  0.392573  0.183928   \n",
       "x4    -0.073535  0.331357  0.088933  0.436783  1.000000  0.197859  0.185071   \n",
       "x5     0.017683  0.221071  0.281805  0.392573  0.197859  1.000000  0.140647   \n",
       "x6    -0.033523  0.137337  0.041265  0.183928  0.185071  0.140647  1.000000   \n",
       "x7     0.544341  0.263514  0.239528 -0.113970 -0.042163  0.036242  0.033561   \n",
       "class  0.221898  0.466581  0.065068  0.074752  0.130548  0.292695  0.173844   \n",
       "\n",
       "             x7     class  \n",
       "x0     0.544341  0.221898  \n",
       "x1     0.263514  0.466581  \n",
       "x2     0.239528  0.065068  \n",
       "x3    -0.113970  0.074752  \n",
       "x4    -0.042163  0.130548  \n",
       "x5     0.036242  0.292695  \n",
       "x6     0.033561  0.173844  \n",
       "x7     1.000000  0.238356  \n",
       "class  0.238356  1.000000  "
      ]
     },
     "execution_count": 35,
     "metadata": {},
     "output_type": "execute_result"
    }
   ],
   "source": [
    "corr = dataset.corr() #correlation plot\n",
    "corr"
   ]
  },
  {
   "cell_type": "code",
   "execution_count": 36,
   "metadata": {},
   "outputs": [
    {
     "data": {
      "text/plain": [
       "(9, 9)"
      ]
     },
     "execution_count": 36,
     "metadata": {},
     "output_type": "execute_result"
    }
   ],
   "source": [
    "corr.shape"
   ]
  },
  {
   "cell_type": "code",
   "execution_count": 37,
   "metadata": {},
   "outputs": [
    {
     "data": {
      "image/png": "[encoded data removed]",
      "text/plain": [
       "<Figure size 720x360 with 2 Axes>"
      ]
     },
     "metadata": {
      "needs_background": "light"
     },
     "output_type": "display_data"
    }
   ],
   "source": [
    "# the correlation matrix\n",
    "plt.figure(figsize=(10,5))\n",
    "sns.heatmap(corr, annot=True, fmt =\".3f\")\n",
    "plt.show()"
   ]
  },
  {
   "cell_type": "markdown",
   "metadata": {
    "id": "S7cbChpStyo8"
   },
   "source": [
    "# Creating a model\n",
    "Split dataset into training and testing models"
   ]
  },
  {
   "cell_type": "code",
   "execution_count": 38,
   "metadata": {},
   "outputs": [
    {
     "name": "stdout",
     "output_type": "stream",
     "text": [
      "     x0   x1  x2  x3   x4    x5     x6  x7\n",
      "0     6  148  72  35    0  33.6  0.627  50\n",
      "1     1   85  66  29    0  26.6  0.351  31\n",
      "2     8  183  64   0    0  23.3  0.672  32\n",
      "3     1   89  66  23   94  28.1  0.167  21\n",
      "4     0  137  40  35  168  43.1  2.288  33\n",
      "..   ..  ...  ..  ..  ...   ...    ...  ..\n",
      "763  10  101  76  48  180  32.9  0.171  63\n",
      "764   2  122  70  27    0  36.8  0.340  27\n",
      "765   5  121  72  23  112  26.2  0.245  30\n",
      "766   1  126  60   0    0  30.1  0.349  47\n",
      "767   1   93  70  31    0  30.4  0.315  23\n",
      "\n",
      "[768 rows x 8 columns]\n"
     ]
    }
   ],
   "source": [
    "#séparer dataset, input contient les 8 premieres colonnes\n",
    "X_total = dataset.drop(dataset.columns[8], axis=1)\n",
    "dx = pd.DataFrame(X_total)\n",
    "print(dx)"
   ]
  },
  {
   "cell_type": "code",
   "execution_count": 39,
   "metadata": {},
   "outputs": [
    {
     "name": "stdout",
     "output_type": "stream",
     "text": [
      "     class\n",
      "0        1\n",
      "1        0\n",
      "2        1\n",
      "3        0\n",
      "4        1\n",
      "..     ...\n",
      "763      0\n",
      "764      0\n",
      "765      0\n",
      "766      1\n",
      "767      0\n",
      "\n",
      "[768 rows x 1 columns]\n"
     ]
    }
   ],
   "source": [
    "#output: target, contient derniere colonne class\n",
    "Y_total = dataset.drop(dataset.columns[:8], axis=1)\n",
    "dy = pd.DataFrame(Y_total)\n",
    "print(dy)"
   ]
  },
  {
   "cell_type": "markdown",
   "metadata": {},
   "source": [
    "*Splitting the dataset : The data we use is usually split into training data and test data. The training set contains a known output and the model learns on this data in order to be generalized to other data later on. We have the test dataset (or subset) in order to test our model’s prediction on this subset. We will do this using SciKit-Learn library in Python using the train_test_split method.\n"
   ]
  },
  {
   "cell_type": "code",
   "execution_count": 67,
   "metadata": {},
   "outputs": [],
   "source": [
    "#les données sont séparées avec les proportions suivantes : 80 % pour le training set et 20 % pour le testing set.\n",
    "x_train, x_test, y_train, y_test = train_test_split(X_total, Y_total, test_size=0.2)"
   ]
  },
  {
   "cell_type": "code",
   "execution_count": 68,
   "metadata": {},
   "outputs": [
    {
     "data": {
      "text/plain": [
       "(614, 8)"
      ]
     },
     "execution_count": 68,
     "metadata": {},
     "output_type": "execute_result"
    }
   ],
   "source": [
    "x_train.shape"
   ]
  },
  {
   "cell_type": "code",
   "execution_count": 69,
   "metadata": {},
   "outputs": [
    {
     "data": {
      "text/plain": [
       "(154, 8)"
      ]
     },
     "execution_count": 69,
     "metadata": {},
     "output_type": "execute_result"
    }
   ],
   "source": [
    "x_test.shape"
   ]
  },
  {
   "cell_type": "code",
   "execution_count": 70,
   "metadata": {},
   "outputs": [
    {
     "data": {
      "text/plain": [
       "(614, 1)"
      ]
     },
     "execution_count": 70,
     "metadata": {},
     "output_type": "execute_result"
    }
   ],
   "source": [
    "y_train.shape"
   ]
  },
  {
   "cell_type": "code",
   "execution_count": 71,
   "metadata": {},
   "outputs": [
    {
     "data": {
      "text/plain": [
       "(154, 1)"
      ]
     },
     "execution_count": 71,
     "metadata": {},
     "output_type": "execute_result"
    }
   ],
   "source": [
    "y_test.shape"
   ]
  },
  {
   "cell_type": "markdown",
   "metadata": {},
   "source": [
    "<strong>chercher les hyperparametres</strong>"
   ]
  },
  {
   "cell_type": "markdown",
   "metadata": {},
   "source": [
    "pour KNN"
   ]
  },
  {
   "cell_type": "code",
   "execution_count": 72,
   "metadata": {},
   "outputs": [
    {
     "name": "stdout",
     "output_type": "stream",
     "text": [
      "Best: 0.754592 using {'metric': 'manhattan', 'n_neighbors': 17, 'weights': 'uniform'}\n",
      "0.691636 (0.054861) with: {'metric': 'euclidean', 'n_neighbors': 1, 'weights': 'uniform'}\n",
      "0.691636 (0.054861) with: {'metric': 'euclidean', 'n_neighbors': 1, 'weights': 'distance'}\n",
      "0.703138 (0.053625) with: {'metric': 'euclidean', 'n_neighbors': 3, 'weights': 'uniform'}\n",
      "0.703675 (0.052076) with: {'metric': 'euclidean', 'n_neighbors': 3, 'weights': 'distance'}\n",
      "0.722202 (0.057317) with: {'metric': 'euclidean', 'n_neighbors': 5, 'weights': 'uniform'}\n",
      "0.724899 (0.054552) with: {'metric': 'euclidean', 'n_neighbors': 5, 'weights': 'distance'}\n",
      "0.733527 (0.055317) with: {'metric': 'euclidean', 'n_neighbors': 7, 'weights': 'uniform'}\n",
      "0.731359 (0.055887) with: {'metric': 'euclidean', 'n_neighbors': 7, 'weights': 'distance'}\n",
      "0.732381 (0.047444) with: {'metric': 'euclidean', 'n_neighbors': 9, 'weights': 'uniform'}\n",
      "0.727569 (0.048732) with: {'metric': 'euclidean', 'n_neighbors': 9, 'weights': 'distance'}\n",
      "0.735616 (0.053152) with: {'metric': 'euclidean', 'n_neighbors': 11, 'weights': 'uniform'}\n",
      "0.729156 (0.050211) with: {'metric': 'euclidean', 'n_neighbors': 11, 'weights': 'distance'}\n",
      "0.740534 (0.055380) with: {'metric': 'euclidean', 'n_neighbors': 13, 'weights': 'uniform'}\n",
      "0.734056 (0.051980) with: {'metric': 'euclidean', 'n_neighbors': 13, 'weights': 'distance'}\n",
      "0.750855 (0.056947) with: {'metric': 'euclidean', 'n_neighbors': 15, 'weights': 'uniform'}\n",
      "0.744888 (0.051883) with: {'metric': 'euclidean', 'n_neighbors': 15, 'weights': 'distance'}\n",
      "0.750264 (0.058150) with: {'metric': 'euclidean', 'n_neighbors': 17, 'weights': 'uniform'}\n",
      "0.739988 (0.058803) with: {'metric': 'euclidean', 'n_neighbors': 17, 'weights': 'distance'}\n",
      "0.743143 (0.065666) with: {'metric': 'euclidean', 'n_neighbors': 19, 'weights': 'uniform'}\n",
      "0.736163 (0.056692) with: {'metric': 'euclidean', 'n_neighbors': 19, 'weights': 'distance'}\n",
      "0.689547 (0.055709) with: {'metric': 'manhattan', 'n_neighbors': 1, 'weights': 'uniform'}\n",
      "0.689547 (0.055709) with: {'metric': 'manhattan', 'n_neighbors': 1, 'weights': 'distance'}\n",
      "0.697682 (0.049280) with: {'metric': 'manhattan', 'n_neighbors': 3, 'weights': 'uniform'}\n",
      "0.698748 (0.049897) with: {'metric': 'manhattan', 'n_neighbors': 3, 'weights': 'distance'}\n",
      "0.734620 (0.047791) with: {'metric': 'manhattan', 'n_neighbors': 5, 'weights': 'uniform'}\n",
      "0.732998 (0.046745) with: {'metric': 'manhattan', 'n_neighbors': 5, 'weights': 'distance'}\n",
      "0.736762 (0.051544) with: {'metric': 'manhattan', 'n_neighbors': 7, 'weights': 'uniform'}\n",
      "0.731341 (0.053647) with: {'metric': 'manhattan', 'n_neighbors': 7, 'weights': 'distance'}\n",
      "0.749744 (0.041882) with: {'metric': 'manhattan', 'n_neighbors': 9, 'weights': 'uniform'}\n",
      "0.741627 (0.049471) with: {'metric': 'manhattan', 'n_neighbors': 9, 'weights': 'distance'}\n",
      "0.751419 (0.052145) with: {'metric': 'manhattan', 'n_neighbors': 11, 'weights': 'uniform'}\n",
      "0.747100 (0.054499) with: {'metric': 'manhattan', 'n_neighbors': 11, 'weights': 'distance'}\n",
      "0.743222 (0.052873) with: {'metric': 'manhattan', 'n_neighbors': 13, 'weights': 'uniform'}\n",
      "0.742182 (0.050695) with: {'metric': 'manhattan', 'n_neighbors': 13, 'weights': 'distance'}\n",
      "0.754557 (0.054279) with: {'metric': 'manhattan', 'n_neighbors': 15, 'weights': 'uniform'}\n",
      "0.752459 (0.047897) with: {'metric': 'manhattan', 'n_neighbors': 15, 'weights': 'distance'}\n",
      "0.754592 (0.052506) with: {'metric': 'manhattan', 'n_neighbors': 17, 'weights': 'uniform'}\n",
      "0.750828 (0.048733) with: {'metric': 'manhattan', 'n_neighbors': 17, 'weights': 'distance'}\n",
      "0.751868 (0.052277) with: {'metric': 'manhattan', 'n_neighbors': 19, 'weights': 'uniform'}\n",
      "0.745382 (0.049733) with: {'metric': 'manhattan', 'n_neighbors': 19, 'weights': 'distance'}\n",
      "0.691636 (0.054861) with: {'metric': 'minkowski', 'n_neighbors': 1, 'weights': 'uniform'}\n",
      "0.691636 (0.054861) with: {'metric': 'minkowski', 'n_neighbors': 1, 'weights': 'distance'}\n",
      "0.703138 (0.053625) with: {'metric': 'minkowski', 'n_neighbors': 3, 'weights': 'uniform'}\n",
      "0.703675 (0.052076) with: {'metric': 'minkowski', 'n_neighbors': 3, 'weights': 'distance'}\n",
      "0.722202 (0.057317) with: {'metric': 'minkowski', 'n_neighbors': 5, 'weights': 'uniform'}\n",
      "0.724899 (0.054552) with: {'metric': 'minkowski', 'n_neighbors': 5, 'weights': 'distance'}\n",
      "0.733527 (0.055317) with: {'metric': 'minkowski', 'n_neighbors': 7, 'weights': 'uniform'}\n",
      "0.731359 (0.055887) with: {'metric': 'minkowski', 'n_neighbors': 7, 'weights': 'distance'}\n",
      "0.732381 (0.047444) with: {'metric': 'minkowski', 'n_neighbors': 9, 'weights': 'uniform'}\n",
      "0.727569 (0.048732) with: {'metric': 'minkowski', 'n_neighbors': 9, 'weights': 'distance'}\n",
      "0.735616 (0.053152) with: {'metric': 'minkowski', 'n_neighbors': 11, 'weights': 'uniform'}\n",
      "0.729156 (0.050211) with: {'metric': 'minkowski', 'n_neighbors': 11, 'weights': 'distance'}\n",
      "0.740534 (0.055380) with: {'metric': 'minkowski', 'n_neighbors': 13, 'weights': 'uniform'}\n",
      "0.734056 (0.051980) with: {'metric': 'minkowski', 'n_neighbors': 13, 'weights': 'distance'}\n",
      "0.750855 (0.056947) with: {'metric': 'minkowski', 'n_neighbors': 15, 'weights': 'uniform'}\n",
      "0.744888 (0.051883) with: {'metric': 'minkowski', 'n_neighbors': 15, 'weights': 'distance'}\n",
      "0.750264 (0.058150) with: {'metric': 'minkowski', 'n_neighbors': 17, 'weights': 'uniform'}\n",
      "0.739988 (0.058803) with: {'metric': 'minkowski', 'n_neighbors': 17, 'weights': 'distance'}\n",
      "0.743143 (0.065666) with: {'metric': 'minkowski', 'n_neighbors': 19, 'weights': 'uniform'}\n",
      "0.736163 (0.056692) with: {'metric': 'minkowski', 'n_neighbors': 19, 'weights': 'distance'}\n"
     ]
    }
   ],
   "source": [
    "from sklearn.model_selection import RepeatedStratifiedKFold\n",
    "from sklearn.model_selection import GridSearchCV\n",
    "\n",
    "# define models and parameters\n",
    "model1knn = KNeighborsClassifier()\n",
    "n_neighbors = range(1, 21, 2)\n",
    "weights = ['uniform', 'distance']\n",
    "metric = ['euclidean', 'manhattan', 'minkowski']\n",
    "\n",
    "# define grid search\n",
    "grid = dict(n_neighbors=n_neighbors,weights=weights,metric=metric)\n",
    "cv = RepeatedStratifiedKFold(n_splits=10, n_repeats=3, random_state=1)\n",
    "grid_search = GridSearchCV(estimator=model1knn, param_grid=grid, n_jobs=-1, cv=cv, scoring='accuracy',error_score=0)\n",
    "grid_result = grid_search.fit(x_train, y_train)\n",
    "\n",
    "# summarize results\n",
    "print(\"Best: %f using %s\" % (grid_result.best_score_, grid_result.best_params_))\n",
    "means = grid_result.cv_results_['mean_test_score']\n",
    "stds = grid_result.cv_results_['std_test_score']\n",
    "params = grid_result.cv_results_['params']\n",
    "for mean, stdev, param in zip(means, stds, params):\n",
    "    print(\"%f (%f) with: %r\" % (mean, stdev, param))"
   ]
  },
  {
   "cell_type": "code",
   "execution_count": 73,
   "metadata": {},
   "outputs": [
    {
     "name": "stdout",
     "output_type": "stream",
     "text": [
      "Accuracy of KNN: 0.7402597402597403\n",
      "Accuracy of KNN: 0.7402597402597403\n",
      "Confusion matrix:\n",
      " [[82 14]\n",
      " [26 32]]\n",
      "Classification Report:\n",
      "               precision    recall  f1-score   support\n",
      "\n",
      "           0       0.76      0.85      0.80        96\n",
      "           1       0.70      0.55      0.62        58\n",
      "\n",
      "    accuracy                           0.74       154\n",
      "   macro avg       0.73      0.70      0.71       154\n",
      "weighted avg       0.74      0.74      0.73       154\n",
      "\n",
      "Accuracy of KNN:  74.02597402597402\n",
      "Accuracy score modelKNN:  0.7402597402597403\n"
     ]
    }
   ],
   "source": [
    "KNN = KNeighborsClassifier(n_neighbors=17, metric= 'manhattan', weights= 'distance')\n",
    "model4 = KNN.fit(x_train, y_train)\n",
    "\n",
    "y_predKNN = KNN.predict(x_test)\n",
    "print(\"Accuracy of KNN:\",metrics.accuracy_score(y_test, y_predKNN))\n",
    "print(\"Accuracy of KNN:\",KNN.score(x_test,y_test))\n",
    "\n",
    "# Evaluate based on accuracy, classification report and confusion matrix for KNN\n",
    "cmKNN = confusion_matrix(y_test, y_predKNN)\n",
    "scoreKNN = accuracy_score(y_test,y_predKNN)\n",
    "cl_reportKNN = classification_report(y_test,y_predKNN)\n",
    "print(\"Confusion matrix:\\n\",cmKNN)\n",
    "print(\"Classification Report:\\n\",cl_reportKNN)\n",
    "print(\"Accuracy of KNN: \",scoreKNN*100)\n",
    "#Save model as pickle file\n",
    "pickle.dump(KNN, open('KNN.pkl','wb'))\n",
    "modelKNN = pickle.load(open('KNN.pkl','rb'))\n",
    "# re-evaluate with trained model\n",
    "y_pred_newKNN = modelKNN.predict(x_test)\n",
    "print(\"Accuracy score modelKNN: \",modelKNN.score(x_test,y_test))"
   ]
  },
  {
   "cell_type": "markdown",
   "metadata": {},
   "source": [
    "SVM"
   ]
  },
  {
   "cell_type": "code",
   "execution_count": 84,
   "metadata": {},
   "outputs": [
    {
     "name": "stdout",
     "output_type": "stream",
     "text": [
      "Best: 0.764930 using {'C': 1.0, 'gamma': 'scale', 'kernel': 'rbf'}\n",
      "0.760118 (0.056680) with: {'C': 50, 'gamma': 'scale', 'kernel': 'poly'}\n",
      "0.754645 (0.049844) with: {'C': 50, 'gamma': 'scale', 'kernel': 'rbf'}\n",
      "0.462498 (0.115465) with: {'C': 50, 'gamma': 'scale', 'kernel': 'sigmoid'}\n",
      "0.759589 (0.051149) with: {'C': 10, 'gamma': 'scale', 'kernel': 'poly'}\n",
      "0.757395 (0.052736) with: {'C': 10, 'gamma': 'scale', 'kernel': 'rbf'}\n",
      "0.458091 (0.097672) with: {'C': 10, 'gamma': 'scale', 'kernel': 'sigmoid'}\n",
      "0.762216 (0.055533) with: {'C': 1.0, 'gamma': 'scale', 'kernel': 'poly'}\n",
      "0.764930 (0.049749) with: {'C': 1.0, 'gamma': 'scale', 'kernel': 'rbf'}\n",
      "0.509184 (0.057880) with: {'C': 1.0, 'gamma': 'scale', 'kernel': 'sigmoid'}\n",
      "0.752997 (0.046927) with: {'C': 0.1, 'gamma': 'scale', 'kernel': 'poly'}\n",
      "0.683474 (0.024842) with: {'C': 0.1, 'gamma': 'scale', 'kernel': 'rbf'}\n",
      "0.657959 (0.002720) with: {'C': 0.1, 'gamma': 'scale', 'kernel': 'sigmoid'}\n",
      "0.693751 (0.024164) with: {'C': 0.01, 'gamma': 'scale', 'kernel': 'poly'}\n",
      "0.657959 (0.002720) with: {'C': 0.01, 'gamma': 'scale', 'kernel': 'rbf'}\n",
      "0.657959 (0.002720) with: {'C': 0.01, 'gamma': 'scale', 'kernel': 'sigmoid'}\n"
     ]
    }
   ],
   "source": [
    "from sklearn.svm import SVC\n",
    "model2svc = SVC()\n",
    "kernel = ['poly', 'rbf', 'sigmoid']\n",
    "C = [50, 10, 1.0, 0.1, 0.01]\n",
    "gamma = ['scale']\n",
    "# define grid search\n",
    "grid = dict(kernel=kernel,C=C,gamma=gamma)\n",
    "cv = RepeatedStratifiedKFold(n_splits=10, n_repeats=3, random_state=1)\n",
    "grid_search = GridSearchCV(estimator=model2svc, param_grid=grid, n_jobs=-1, cv=cv, scoring='accuracy',error_score=0)\n",
    "grid_result = grid_search.fit(x_train, y_train)\n",
    "# summarize results\n",
    "print(\"Best: %f using %s\" % (grid_result.best_score_, grid_result.best_params_))\n",
    "means = grid_result.cv_results_['mean_test_score']\n",
    "stds = grid_result.cv_results_['std_test_score']\n",
    "params = grid_result.cv_results_['params']\n",
    "for mean, stdev, param in zip(means, stds, params):\n",
    "    print(\"%f (%f) with: %r\" % (mean, stdev, param))"
   ]
  },
  {
   "cell_type": "code",
   "execution_count": 85,
   "metadata": {},
   "outputs": [
    {
     "name": "stdout",
     "output_type": "stream",
     "text": [
      "Accuracy of SVM: 0.7272727272727273\n",
      "Accuracy of SVM: 0.7272727272727273\n",
      "Confusion matrix:\n",
      " [[86 10]\n",
      " [32 26]]\n",
      "Classification Report:\n",
      "               precision    recall  f1-score   support\n",
      "\n",
      "           0       0.73      0.90      0.80        96\n",
      "           1       0.72      0.45      0.55        58\n",
      "\n",
      "    accuracy                           0.73       154\n",
      "   macro avg       0.73      0.67      0.68       154\n",
      "weighted avg       0.73      0.73      0.71       154\n",
      "\n",
      "Accuracy of SVM:  72.72727272727273\n",
      "Accuracy score modelKNN:  0.7272727272727273\n"
     ]
    }
   ],
   "source": [
    "SVM = svm.SVC(C= 1.0, gamma= 'scale', kernel= 'rbf')\n",
    "model3 = SVM.fit(x_train, y_train.values.ravel())\n",
    "y_predSVM = SVM.predict(x_test)\n",
    "print(\"Accuracy of SVM:\",metrics.accuracy_score(y_test, y_predSVM))\n",
    "print(\"Accuracy of SVM:\",SVM.score(x_test,y_test))\n",
    "# Evaluate based on accuracy, classification report and confusion matrix FOR SVM\n",
    "cmSVM = confusion_matrix(y_test, y_predSVM)\n",
    "scoreSVM = accuracy_score(y_test,y_predSVM)\n",
    "cl_reportSVM = classification_report(y_test,y_predSVM)\n",
    "print(\"Confusion matrix:\\n\",cmSVM)\n",
    "print(\"Classification Report:\\n\",cl_reportSVM)\n",
    "print(\"Accuracy of SVM: \",scoreSVM*100)\n",
    "#Save model as pickle file\n",
    "pickle.dump(SVM, open('SVM.pkl','wb'))\n",
    "modelSVM = pickle.load(open('SVM.pkl','rb'))\n",
    "# re-evaluate with trained model\n",
    "y_pred_newSVM = modelSVM.predict(x_test)\n",
    "print(\"Accuracy score modelKNN: \",modelSVM.score(x_test,y_test))"
   ]
  },
  {
   "cell_type": "markdown",
   "metadata": {},
   "source": [
    "Random Forest Classifier"
   ]
  },
  {
   "cell_type": "code",
   "execution_count": 87,
   "metadata": {},
   "outputs": [
    {
     "name": "stdout",
     "output_type": "stream",
     "text": [
      "Best: 0.762789 using {'max_features': 'log2', 'n_estimators': 1000}\n",
      "0.743213 (0.047256) with: {'max_features': 'sqrt', 'n_estimators': 10}\n",
      "0.755755 (0.043741) with: {'max_features': 'sqrt', 'n_estimators': 100}\n",
      "0.761167 (0.044107) with: {'max_features': 'sqrt', 'n_estimators': 1000}\n",
      "0.744800 (0.046939) with: {'max_features': 'log2', 'n_estimators': 10}\n",
      "0.760603 (0.045952) with: {'max_features': 'log2', 'n_estimators': 100}\n",
      "0.762789 (0.043273) with: {'max_features': 'log2', 'n_estimators': 1000}\n"
     ]
    }
   ],
   "source": [
    "# define models and parameters\n",
    "model3rf = RandomForestClassifier()\n",
    "n_estimators = [10, 100, 1000]\n",
    "max_features = ['sqrt', 'log2']\n",
    "\n",
    "# define grid search\n",
    "grid = dict(n_estimators=n_estimators,max_features=max_features)\n",
    "cv = RepeatedStratifiedKFold(n_splits=10, n_repeats=3, random_state=1)\n",
    "grid_search = GridSearchCV(estimator=model3rf, param_grid=grid, n_jobs=-1, cv=cv, scoring='accuracy',error_score=0)\n",
    "grid_result = grid_search.fit(x_train, y_train)\n",
    "\n",
    "# summarize results\n",
    "print(\"Best: %f using %s\" % (grid_result.best_score_, grid_result.best_params_))\n",
    "means = grid_result.cv_results_['mean_test_score']\n",
    "stds = grid_result.cv_results_['std_test_score']\n",
    "params = grid_result.cv_results_['params']\n",
    "for mean, stdev, param in zip(means, stds, params):\n",
    "    print(\"%f (%f) with: %r\" % (mean, stdev, param))"
   ]
  },
  {
   "cell_type": "code",
   "execution_count": 81,
   "metadata": {},
   "outputs": [
    {
     "name": "stdout",
     "output_type": "stream",
     "text": [
      "Accuracy of RFC: 0.7662337662337663\n",
      "Accuracy of RFC: 0.7662337662337663\n",
      "Confusion matrix:\n",
      " [[81 15]\n",
      " [21 37]]\n",
      "Classification Report:\n",
      "               precision    recall  f1-score   support\n",
      "\n",
      "           0       0.79      0.84      0.82        96\n",
      "           1       0.71      0.64      0.67        58\n",
      "\n",
      "    accuracy                           0.77       154\n",
      "   macro avg       0.75      0.74      0.75       154\n",
      "weighted avg       0.76      0.77      0.76       154\n",
      "\n",
      "Accuracy of RFC:  76.62337662337663\n",
      "Accuracy score modelKNN:  0.7662337662337663\n"
     ]
    }
   ],
   "source": [
    "# changement du type du y-train du colone-vecteur a un tableau de dim=1\n",
    "y=np.ravel(y_train)\n",
    "RFC = RandomForestClassifier(max_features= 'sqrt', n_estimators= 100)\n",
    "model6 = RFC.fit(x_train, y)\n",
    "y_predRFC = RFC.predict(x_test)\n",
    "print(\"Accuracy of RFC:\",metrics.accuracy_score(y_test, y_predRFC))\n",
    "print(\"Accuracy of RFC:\",RFC.score(x_test,y_test))\n",
    "# Evaluate based on accuracy, classification report and confusion matrix FOR RFC\n",
    "cmRFC = confusion_matrix(y_test, y_predRFC)\n",
    "scoreRFC = accuracy_score(y_test,y_predRFC)\n",
    "cl_reportRFC = classification_report(y_test,y_predRFC)\n",
    "print(\"Confusion matrix:\\n\",cmRFC)\n",
    "print(\"Classification Report:\\n\",cl_reportRFC)\n",
    "print(\"Accuracy of RFC: \",scoreRFC*100)\n",
    "#Save model as pickle file\n",
    "pickle.dump(RFC, open('RFC.pkl','wb'))\n",
    "modelRFC = pickle.load(open('RFC.pkl','rb'))\n",
    "# re-evaluate with trained model\n",
    "y_pred_newRFC = modelRFC.predict(x_test)\n",
    "print(\"Accuracy score modelKNN: \",modelRFC.score(x_test,y_test))"
   ]
  },
  {
   "cell_type": "markdown",
   "metadata": {},
   "source": [
    "Logistic Regression"
   ]
  },
  {
   "cell_type": "code",
   "execution_count": null,
   "metadata": {},
   "outputs": [],
   "source": []
  },
  {
   "cell_type": "code",
   "execution_count": 90,
   "metadata": {},
   "outputs": [
    {
     "name": "stdout",
     "output_type": "stream",
     "text": [
      "Accuracy of LRA: 0.7532467532467533\n",
      "Accuracy of LRA: 0.7532467532467533\n",
      "Confusion matrix:\n",
      " [[84 12]\n",
      " [26 32]]\n",
      "Classification Report:\n",
      "               precision    recall  f1-score   support\n",
      "\n",
      "           0       0.76      0.88      0.82        96\n",
      "           1       0.73      0.55      0.63        58\n",
      "\n",
      "    accuracy                           0.75       154\n",
      "   macro avg       0.75      0.71      0.72       154\n",
      "weighted avg       0.75      0.75      0.74       154\n",
      "\n",
      "Accuracy of LRA:  75.32467532467533\n",
      "Accuracy score modelLRA:  0.7532467532467533\n"
     ]
    }
   ],
   "source": [
    "LRA = LogisticRegression(solver='lbfgs',max_iter=10000)\n",
    "model7 = LRA.fit(x_train, y_train.values.ravel())\n",
    "y_predLRA = LRA.predict(x_test)\n",
    "print(\"Accuracy of LRA:\",metrics.accuracy_score(y_test, y_predLRA))\n",
    "print(\"Accuracy of LRA:\",LRA.score(x_test,y_test))\n",
    "# Evaluate based on accuracy, classification report and confusion matrix FOR LRA\n",
    "cmLRA = confusion_matrix(y_test, y_predLRA)\n",
    "scoreLRA = accuracy_score(y_test,y_predLRA)\n",
    "cl_reportLRA = classification_report(y_test,y_predLRA)\n",
    "print(\"Confusion matrix:\\n\",cmLRA)\n",
    "print(\"Classification Report:\\n\",cl_reportLRA)\n",
    "print(\"Accuracy of LRA: \",scoreLRA*100)\n",
    "#Save model as pickle file\n",
    "pickle.dump(LRA, open('LRA.pkl','wb'))\n",
    "modelLRA = pickle.load(open('LRA.pkl','rb'))\n",
    "# re-evaluate with trained model\n",
    "y_pred_newLRA = modelLRA.predict(x_test)\n",
    "print(\"Accuracy score modelLRA: \",modelLRA.score(x_test,y_test))"
   ]
  },
  {
   "cell_type": "markdown",
   "metadata": {},
   "source": [
    "Decision Tree Algorithm"
   ]
  },
  {
   "cell_type": "code",
   "execution_count": null,
   "metadata": {},
   "outputs": [],
   "source": []
  },
  {
   "cell_type": "code",
   "execution_count": 100,
   "metadata": {},
   "outputs": [
    {
     "name": "stdout",
     "output_type": "stream",
     "text": [
      "Accuracy of DecisionTree: 0.7272727272727273\n",
      "Accuracy of DecisionTree: 0.7272727272727273\n",
      "Confusion matrix:\n",
      " [[75 21]\n",
      " [21 37]]\n",
      "Classification Report:\n",
      "               precision    recall  f1-score   support\n",
      "\n",
      "           0       0.78      0.78      0.78        96\n",
      "           1       0.64      0.64      0.64        58\n",
      "\n",
      "    accuracy                           0.73       154\n",
      "   macro avg       0.71      0.71      0.71       154\n",
      "weighted avg       0.73      0.73      0.73       154\n",
      "\n",
      "Accuracy of DTC:  72.72727272727273\n",
      "Accuracy score modelKNN:  0.7272727272727273\n"
     ]
    }
   ],
   "source": [
    "DTC = DecisionTreeClassifier()\n",
    "model1 = DTC.fit(x_train, y_train)\n",
    "y_predDTC = DTC.predict(x_test)\n",
    "print(\"Accuracy of DecisionTree:\",metrics.accuracy_score(y_test, y_predDTC))\n",
    "print(\"Accuracy of DecisionTree:\",DTC.score(x_test,y_test))\n",
    "# Evaluate based on accuracy, classification report and confusion matrix for DTC\n",
    "cmDTC = confusion_matrix(y_test, y_predDTC)\n",
    "scoreDTC = accuracy_score(y_test,y_predDTC)\n",
    "cl_reportDTC = classification_report(y_test,y_predDTC)\n",
    "print(\"Confusion matrix:\\n\",cmDTC)\n",
    "print(\"Classification Report:\\n\",cl_reportDTC)\n",
    "print(\"Accuracy of DTC: \",scoreDTC*100)\n",
    "#Save model as pickle file\n",
    "pickle.dump(DTC, open('DTC.pkl','wb'))\n",
    "modelDTC = pickle.load(open('DTC.pkl','rb'))\n",
    "# re-evaluate with trained model\n",
    "y_pred_newDTC = modelDTC.predict(x_test)\n",
    "print(\"Accuracy score modelDTC: \",modelDTC.score(x_test,y_test))"
   ]
  },
  {
   "cell_type": "markdown",
   "metadata": {},
   "source": [
    "GradientBoostingClassifier"
   ]
  },
  {
   "cell_type": "code",
   "execution_count": 101,
   "metadata": {},
   "outputs": [
    {
     "name": "stdout",
     "output_type": "stream",
     "text": [
      "Accuracy of GradientBoosting: 0.7532467532467533\n",
      "Accuracy of GradientBoosting: 0.7532467532467533\n",
      "Confusion matrix:\n",
      " [[83 13]\n",
      " [25 33]]\n",
      "Classification Report:\n",
      "               precision    recall  f1-score   support\n",
      "\n",
      "           0       0.77      0.86      0.81        96\n",
      "           1       0.72      0.57      0.63        58\n",
      "\n",
      "    accuracy                           0.75       154\n",
      "   macro avg       0.74      0.72      0.72       154\n",
      "weighted avg       0.75      0.75      0.75       154\n",
      "\n",
      "Accuracy of GBC:  75.32467532467533\n",
      "Accuracy score modelKNN:  0.7532467532467533\n"
     ]
    }
   ],
   "source": [
    "GBC = GradientBoostingClassifier()\n",
    "model2 = GBC.fit(x_train, y_train.values.ravel())\n",
    "y_predGBC = GBC.predict(x_test)\n",
    "print(\"Accuracy of GradientBoosting:\",metrics.accuracy_score(y_test, y_predGBC))\n",
    "print(\"Accuracy of GradientBoosting:\",GBC.score(x_test,y_test))\n",
    "# Evaluate based on accuracy, classification report and confusion matrix for GBC\n",
    "cmGBC = confusion_matrix(y_test, y_predGBC)\n",
    "scoreGBC = accuracy_score(y_test,y_predGBC)\n",
    "cl_reportGBC = classification_report(y_test,y_predGBC)\n",
    "print(\"Confusion matrix:\\n\",cmGBC)\n",
    "print(\"Classification Report:\\n\",cl_reportGBC)\n",
    "print(\"Accuracy of GBC: \",scoreGBC*100)\n",
    "#Save model as pickle file\n",
    "pickle.dump(GBC, open('GBC.pkl','wb'))\n",
    "modelGBC = pickle.load(open('GBC.pkl','rb'))\n",
    "# re-evaluate with trained model\n",
    "y_pred_newGBC = modelGBC.predict(x_test)\n",
    "print(\"Accuracy score modelGBC: \",modelGBC.score(x_test,y_test))"
   ]
  },
  {
   "cell_type": "markdown",
   "metadata": {},
   "source": [
    "Naive Bayes"
   ]
  },
  {
   "cell_type": "code",
   "execution_count": 102,
   "metadata": {},
   "outputs": [
    {
     "name": "stdout",
     "output_type": "stream",
     "text": [
      "Accuracy of NBA: 0.7467532467532467\n",
      "Accuracy of NBA: 0.7467532467532467\n",
      "Confusion matrix:\n",
      " [[80 16]\n",
      " [23 35]]\n",
      "Classification Report:\n",
      "               precision    recall  f1-score   support\n",
      "\n",
      "           0       0.78      0.83      0.80        96\n",
      "           1       0.69      0.60      0.64        58\n",
      "\n",
      "    accuracy                           0.75       154\n",
      "   macro avg       0.73      0.72      0.72       154\n",
      "weighted avg       0.74      0.75      0.74       154\n",
      "\n",
      "Accuracy of NBA:  74.67532467532467\n",
      "Accuracy score modelKNN:  0.7467532467532467\n"
     ]
    }
   ],
   "source": [
    "NBA = GaussianNB()\n",
    "model5 = NBA.fit(x_train, y_train)\n",
    "y_predNBA = NBA.predict(x_test)\n",
    "print(\"Accuracy of NBA:\",metrics.accuracy_score(y_test, y_predNBA))\n",
    "print(\"Accuracy of NBA:\",NBA.score(x_test,y_test))\n",
    "# Evaluate based on accuracy, classification report and confusion matrix FOR NBA\n",
    "cmNBA = confusion_matrix(y_test, y_predNBA)\n",
    "scoreNBA = accuracy_score(y_test,y_predNBA)\n",
    "cl_reportNBA = classification_report(y_test,y_predNBA)\n",
    "print(\"Confusion matrix:\\n\",cmNBA)\n",
    "print(\"Classification Report:\\n\",cl_reportNBA)\n",
    "print(\"Accuracy of NBA: \",scoreNBA*100)\n",
    "#Save model as pickle file\n",
    "pickle.dump(NBA, open('NBA.pkl','wb'))\n",
    "modelNBA = pickle.load(open('NBA.pkl','rb'))\n",
    "# re-evaluate with trained model\n",
    "y_pred_newNBA = modelNBA.predict(x_test)\n",
    "print(\"Accuracy score modelNBA: \",modelNBA.score(x_test,y_test))"
   ]
  },
  {
   "cell_type": "code",
   "execution_count": 106,
   "metadata": {},
   "outputs": [
    {
     "data": {
      "text/html": [
       "<div>\n",
       "<style scoped>\n",
       "    .dataframe tbody tr th:only-of-type {\n",
       "        vertical-align: middle;\n",
       "    }\n",
       "\n",
       "    .dataframe tbody tr th {\n",
       "        vertical-align: top;\n",
       "    }\n",
       "\n",
       "    .dataframe thead th {\n",
       "        text-align: right;\n",
       "    }\n",
       "</style>\n",
       "<table border=\"1\" class=\"dataframe\">\n",
       "  <thead>\n",
       "    <tr style=\"text-align: right;\">\n",
       "      <th></th>\n",
       "      <th>Algorithm</th>\n",
       "      <th>Accuracy</th>\n",
       "    </tr>\n",
       "  </thead>\n",
       "  <tbody>\n",
       "    <tr>\n",
       "      <th>0</th>\n",
       "      <td>logistic Regression Method</td>\n",
       "      <td>0.753247</td>\n",
       "    </tr>\n",
       "    <tr>\n",
       "      <th>0</th>\n",
       "      <td>Decision Tree Classifier Method</td>\n",
       "      <td>0.727273</td>\n",
       "    </tr>\n",
       "    <tr>\n",
       "      <th>0</th>\n",
       "      <td>Random forest Classifier Method</td>\n",
       "      <td>0.766234</td>\n",
       "    </tr>\n",
       "    <tr>\n",
       "      <th>0</th>\n",
       "      <td>Support Vector Classifier Method</td>\n",
       "      <td>0.727273</td>\n",
       "    </tr>\n",
       "    <tr>\n",
       "      <th>0</th>\n",
       "      <td>Gaussian Naive Bayes Method</td>\n",
       "      <td>0.746753</td>\n",
       "    </tr>\n",
       "    <tr>\n",
       "      <th>0</th>\n",
       "      <td>Gradien Boosting Classifier Method</td>\n",
       "      <td>0.753247</td>\n",
       "    </tr>\n",
       "    <tr>\n",
       "      <th>0</th>\n",
       "      <td>KNN Method</td>\n",
       "      <td>0.740260</td>\n",
       "    </tr>\n",
       "  </tbody>\n",
       "</table>\n",
       "</div>"
      ],
      "text/plain": [
       "                            Algorithm  Accuracy\n",
       "0          logistic Regression Method  0.753247\n",
       "0     Decision Tree Classifier Method  0.727273\n",
       "0     Random forest Classifier Method  0.766234\n",
       "0    Support Vector Classifier Method  0.727273\n",
       "0         Gaussian Naive Bayes Method  0.746753\n",
       "0  Gradien Boosting Classifier Method  0.753247\n",
       "0                          KNN Method  0.740260"
      ]
     },
     "execution_count": 106,
     "metadata": {},
     "output_type": "execute_result"
    }
   ],
   "source": [
    "results = pd.DataFrame()\n",
    "\n",
    "tempresults = pd.DataFrame({'Algorithm': ['logistic Regression Method'], 'Accuracy':[modelLRA.score(x_test,y_test)]})\n",
    "results = pd.concat( [results,tempresults])\n",
    "\n",
    "tempresults = pd.DataFrame({'Algorithm': ['Decision Tree Classifier Method'], 'Accuracy':[modelDTC.score(x_test,y_test)]})\n",
    "results = pd.concat( [results,tempresults])\n",
    "\n",
    "tempresults = pd.DataFrame({'Algorithm': ['Random forest Classifier Method'], 'Accuracy':[modelRFC.score(x_test,y_test)]})\n",
    "results = pd.concat( [results,tempresults])\n",
    "\n",
    "tempresults = pd.DataFrame({'Algorithm': ['Support Vector Classifier Method'], 'Accuracy':[modelSVM.score(x_test,y_test)]})\n",
    "results = pd.concat( [results,tempresults])\n",
    "\n",
    "tempresults = pd.DataFrame({'Algorithm': ['Gaussian Naive Bayes Method'], 'Accuracy':[modelNBA.score(x_test,y_test)]})\n",
    "results = pd.concat( [results,tempresults])\n",
    "\n",
    "tempresults = pd.DataFrame({'Algorithm': ['Gradien Boosting Classifier Method'], 'Accuracy':[modelGBC.score(x_test,y_test)]})\n",
    "results = pd.concat( [results,tempresults])\n",
    "\n",
    "tempresults = pd.DataFrame({'Algorithm': ['KNN Method'], 'Accuracy':[modelKNN.score(x_test,y_test)]})\n",
    "results = pd.concat( [results,tempresults])\n",
    "results"
   ]
  },
  {
   "cell_type": "code",
   "execution_count": 104,
   "metadata": {},
   "outputs": [
    {
     "data": {
      "image/png": "[encoded data removed]",
      "text/plain": [
       "<Figure size 2304x1440 with 1 Axes>"
      ]
     },
     "metadata": {
      "needs_background": "light"
     },
     "output_type": "display_data"
    }
   ],
   "source": [
    "plt.figure(figsize=(32,20))\n",
    "sns.barplot(x = \"Algorithm\", y = \"Accuracy\", data = results)\n",
    "plt.show()"
   ]
  },
  {
   "cell_type": "code",
   "execution_count": null,
   "metadata": {},
   "outputs": [],
   "source": []
  }
 ],
 "metadata": {
  "colab": {
   "authorship_tag": "ABX9TyMVSj2k0pnBAKGIJxS+c+0H",
   "collapsed_sections": [],
   "include_colab_link": true,
   "name": "Major Project: Movie reviews.ipynb",
   "provenance": []
  },
  "kernelspec": {
   "display_name": "Python 3",
   "language": "python",
   "name": "python3"
  },
  "language_info": {
   "codemirror_mode": {
    "name": "ipython",
    "version": 3
   },
   "file_extension": ".py",
   "mimetype": "text/x-python",
   "name": "python",
   "nbconvert_exporter": "python",
   "pygments_lexer": "ipython3",
   "version": "3.8.5"
  }
 },
 "nbformat": 4,
 "nbformat_minor": 1
}
